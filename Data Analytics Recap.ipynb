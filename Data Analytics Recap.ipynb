{
 "cells": [
  {
   "cell_type": "markdown",
   "id": "fa84604c",
   "metadata": {},
   "source": [
    "## __Data Analytics Recap__\n",
    "####   001 - Yumi Jin"
   ]
  },
  {
   "cell_type": "markdown",
   "id": "4444b462",
   "metadata": {},
   "source": [
    "### __E1. Game Fun: Customer Acquisition through Digital Advertising__"
   ]
  },
  {
   "cell_type": "markdown",
   "id": "d5e92cdb",
   "metadata": {},
   "source": [
    "#### 1. Before evaluating the effect of an experiment, it is important to make sure that the experiment was executed correctly. Check whether the test and control groups are probabilistically equivalent on their observables?"
   ]
  },
  {
   "cell_type": "markdown",
   "id": "7617fa6f",
   "metadata": {},
   "source": [
    "a. More specific, compare the averages of the income, gender and gamer variables in the test and control groups. You should also report the % difference in the averages. Compute its statistical significance. [2 pts]"
   ]
  },
  {
   "cell_type": "code",
   "execution_count": 28,
   "id": "14ea662d",
   "metadata": {},
   "outputs": [],
   "source": [
    "import pandas as pd\n",
    "import numpy as np\n",
    "import openpyxl\n",
    "from scipy.stats import ttest_ind"
   ]
  },
  {
   "cell_type": "code",
   "execution_count": 19,
   "id": "7ced6075",
   "metadata": {},
   "outputs": [],
   "source": [
    "path = \"/Users/yumi/ucdavis/Spring Quarter/BAX-423/Homework/Homework 1/GameFun.xlsx\"\n",
    "data = pd.read_excel(path)"
   ]
  },
  {
   "cell_type": "code",
   "execution_count": 20,
   "id": "2a9961e3",
   "metadata": {
    "scrolled": true
   },
   "outputs": [
    {
     "data": {
      "text/html": [
       "<div>\n",
       "<style scoped>\n",
       "    .dataframe tbody tr th:only-of-type {\n",
       "        vertical-align: middle;\n",
       "    }\n",
       "\n",
       "    .dataframe tbody tr th {\n",
       "        vertical-align: top;\n",
       "    }\n",
       "\n",
       "    .dataframe thead th {\n",
       "        text-align: right;\n",
       "    }\n",
       "</style>\n",
       "<table border=\"1\" class=\"dataframe\">\n",
       "  <thead>\n",
       "    <tr style=\"text-align: right;\">\n",
       "      <th></th>\n",
       "      <th>id</th>\n",
       "      <th>test</th>\n",
       "      <th>purchase</th>\n",
       "      <th>site</th>\n",
       "      <th>impressions</th>\n",
       "      <th>income</th>\n",
       "      <th>gender</th>\n",
       "      <th>gamer</th>\n",
       "    </tr>\n",
       "  </thead>\n",
       "  <tbody>\n",
       "    <tr>\n",
       "      <th>0</th>\n",
       "      <td>1956</td>\n",
       "      <td>0</td>\n",
       "      <td>0</td>\n",
       "      <td>site1</td>\n",
       "      <td>0</td>\n",
       "      <td>100</td>\n",
       "      <td>1</td>\n",
       "      <td>0</td>\n",
       "    </tr>\n",
       "    <tr>\n",
       "      <th>1</th>\n",
       "      <td>45821</td>\n",
       "      <td>1</td>\n",
       "      <td>0</td>\n",
       "      <td>site1</td>\n",
       "      <td>20</td>\n",
       "      <td>70</td>\n",
       "      <td>1</td>\n",
       "      <td>0</td>\n",
       "    </tr>\n",
       "    <tr>\n",
       "      <th>2</th>\n",
       "      <td>59690</td>\n",
       "      <td>1</td>\n",
       "      <td>0</td>\n",
       "      <td>site1</td>\n",
       "      <td>22</td>\n",
       "      <td>100</td>\n",
       "      <td>1</td>\n",
       "      <td>0</td>\n",
       "    </tr>\n",
       "    <tr>\n",
       "      <th>3</th>\n",
       "      <td>18851</td>\n",
       "      <td>0</td>\n",
       "      <td>0</td>\n",
       "      <td>site1</td>\n",
       "      <td>13</td>\n",
       "      <td>90</td>\n",
       "      <td>1</td>\n",
       "      <td>0</td>\n",
       "    </tr>\n",
       "    <tr>\n",
       "      <th>4</th>\n",
       "      <td>60647</td>\n",
       "      <td>1</td>\n",
       "      <td>0</td>\n",
       "      <td>site1</td>\n",
       "      <td>12</td>\n",
       "      <td>60</td>\n",
       "      <td>1</td>\n",
       "      <td>0</td>\n",
       "    </tr>\n",
       "  </tbody>\n",
       "</table>\n",
       "</div>"
      ],
      "text/plain": [
       "      id  test  purchase   site  impressions  income  gender  gamer\n",
       "0   1956     0         0  site1            0     100       1      0\n",
       "1  45821     1         0  site1           20      70       1      0\n",
       "2  59690     1         0  site1           22     100       1      0\n",
       "3  18851     0         0  site1           13      90       1      0\n",
       "4  60647     1         0  site1           12      60       1      0"
      ]
     },
     "execution_count": 20,
     "metadata": {},
     "output_type": "execute_result"
    }
   ],
   "source": [
    "data.head()"
   ]
  },
  {
   "cell_type": "code",
   "execution_count": 24,
   "id": "8dcc58d1",
   "metadata": {},
   "outputs": [],
   "source": [
    "# subset the dataset to test and control groups\n",
    "test = data[data['test'] == 1]\n",
    "control = data[data['test'] == 0]"
   ]
  },
  {
   "cell_type": "code",
   "execution_count": 39,
   "id": "9d3e721e",
   "metadata": {},
   "outputs": [],
   "source": [
    "# calculate means for income, gender, and gamer in both groups\n",
    "mean_test = test[['income', 'gender', 'gamer']].mean()\n",
    "mean_control = control[['income', 'gender', 'gamer']].mean()\n",
    "\n",
    "# print('Test:\\n', mean_test)\n",
    "# print('Control\\n', mean_control)"
   ]
  },
  {
   "cell_type": "markdown",
   "id": "e16caa5a",
   "metadata": {},
   "source": [
    "__Test:__  \n",
    "Avg(Income) = 54.938236  \n",
    "Avg(Gender) = 0.647289  \n",
    "Avg(Gamer) = 0.601331    \n",
    "__Control:__  \n",
    "Avg(Income) = 55.166012  \n",
    "Avg(Gender) = 0.647905  \n",
    "Avg(Gamer) = 0.601823"
   ]
  },
  {
   "cell_type": "code",
   "execution_count": 54,
   "id": "a9404d47",
   "metadata": {
    "scrolled": true
   },
   "outputs": [],
   "source": [
    "# calculate percentage difference in means\n",
    "percent_diff = (mean_test - mean_control) / mean_control * 100\n",
    "\n",
    "# perform t-tests for statistical significance\n",
    "t_test_income = ttest_ind(test['income'], control['income'])\n",
    "t_test_gender = ttest_ind(test['gender'], control['gender'])\n",
    "t_test_gamer = ttest_ind(test['gamer'], control['gamer'])\n",
    "\n",
    "# print(percent_diff,'\\n\\n', t_test_income,'\\n', t_test_gender,'\\n', t_test_gamer)"
   ]
  },
  {
   "cell_type": "markdown",
   "id": "e9012534",
   "metadata": {},
   "source": [
    "__Percentage Difference:__  \n",
    "Income: -0.41%  \n",
    "Gender: -0.10%  \n",
    "Gamer: -0.08%  \n",
    "\n",
    "__Statistical Significance__\n",
    "Income: p-value = 0.128 (not significant)  \n",
    "Gender: p-value = 0.906 (not significant)  \n",
    "Gamer: p-value = 0.927 (not significant)  "
   ]
  },
  {
   "cell_type": "markdown",
   "id": "39955c0b",
   "metadata": {},
   "source": [
    "__Answer:__ The percentage differences in the means for income, gender, and gamer status between the test and control groups are very small. And there are no significant differences in these variables between the groups. Thus the test and control groups are probabilistically equivalent on these observables."
   ]
  },
  {
   "cell_type": "markdown",
   "id": "2b6b869a",
   "metadata": {},
   "source": [
    "<hr style=\"border:0.5px solid gray\">"
   ]
  },
  {
   "cell_type": "markdown",
   "id": "229760d5",
   "metadata": {},
   "source": [
    "b. Briefly comment on what these metrics tell you about probabilistic equivalence for this experiment. [2 pts]"
   ]
  },
  {
   "cell_type": "markdown",
   "id": "a8e69a48",
   "metadata": {},
   "source": [
    "__Answer:__ These metrics suggest that the test and control groups are probabilistically equivalent regarding the variables examined. This equivalence is critical because it implies that the two groups were likely subject to similar conditions except for the intervention being tested. Thus, any differences in outcomes between the test and control groups can more confidently be attributed to the experimental intervention rather than differences in baseline characteristics. "
   ]
  },
  {
   "cell_type": "markdown",
   "id": "ef50d494",
   "metadata": {},
   "source": [
    "<hr style=\"border:0.5px solid gray\">"
   ]
  },
  {
   "cell_type": "markdown",
   "id": "9e71cc57",
   "metadata": {},
   "source": [
    "c. If you had run this type of analysis BEFORE executing an experiment and found a large difference between test and control groups, what you should do? [5 pts] "
   ]
  },
  {
   "cell_type": "markdown",
   "id": "977244e3",
   "metadata": {},
   "source": [
    "__Answer:__ If, before executing an experiment, the preliminary analysis reveals significant differences between the test and control groups in key characteristics, I would consider using the following methods:  \n",
    "i.\tReassess the Randomization Process by reviewing the randomization procedure.  \n",
    "ii.\tRebalance the groups using techniques like A/B with Matching, DiD, and Phased Roll Outs.  \n",
    "iii. Use statistical techniques such as ANCOVA to adjust for the differences in the variables.  \n",
    "iv.\tIncrease the sample size to minimize the effects and differences.  \n"
   ]
  },
  {
   "cell_type": "markdown",
   "id": "b5852b0a",
   "metadata": {},
   "source": [
    "<hr style=\"border:0.5px solid gray\">"
   ]
  },
  {
   "cell_type": "markdown",
   "id": "fd66c5eb",
   "metadata": {},
   "source": [
    "d. (Open/Ended Question) If you had millions of consumers, your “classic” statistical significance tests would not work (this is because the number of samples is used to compute those classic statistical tests). Do some research online and propose what significance test would you do in case you had “big data”? [5 pts]"
   ]
  },
  {
   "cell_type": "markdown",
   "id": "15b5f31d",
   "metadata": {},
   "source": [
    "__Answer:__ Alternative approaches for testing significance with big data:  \n",
    "i.\tEffect Size Measures: Focus on the magnitude of differences to identify meaningful effects.  \n",
    "ii.\tResampling Methods: Techniques like bootstrapping adjust for large data peculiarities.  \n",
    "iii.\tBayesian Methods: These incorporate prior knowledge and adapt well to complex data.  \n",
    "iv.\tData Splitting: Analyze subsets of data to avoid detecting insignificant differences.  \n",
    "v.\tAdjusted Statistical Techniques: Such as the corrected resampled t-test, which reduces Type I errors prevalent in large datasets.  \n"
   ]
  },
  {
   "cell_type": "markdown",
   "id": "a77ba36f",
   "metadata": {},
   "source": [
    "---"
   ]
  },
  {
   "cell_type": "markdown",
   "id": "b9a6608b",
   "metadata": {},
   "source": [
    "#### 2. Evaluate the average purchase rates in the test and control for the following groups. For each comparison, report the average purchase rate for the test, average purchase rate for the control and the absolute difference (not the % difference) between the test and control."
   ]
  },
  {
   "cell_type": "code",
   "execution_count": 56,
   "id": "febac4c2",
   "metadata": {},
   "outputs": [],
   "source": [
    "# group data and calculate average purchase rates for each segment\n",
    "\n",
    "# a. All customers\n",
    "all_customers = data.groupby('test')['purchase'].mean()\n",
    "\n",
    "# b. Male vs. Female customers\n",
    "gender_purchase = data.groupby(['test', 'gender'])['purchase'].mean().unstack()\n",
    "\n",
    "# c. Gamers vs. Non-Gamers Customers\n",
    "gamer_purchase = data.groupby(['test', 'gamer'])['purchase'].mean().unstack()\n",
    "\n",
    "# d. Female Gamers vs. Male Gamers\n",
    "female_gamers = data[(data['gender'] == 0) & (data['gamer'] == 1)].groupby('test')['purchase'].mean()\n",
    "male_gamers = data[(data['gender'] == 1) & (data['gamer'] == 1)].groupby('test')['purchase'].mean()\n",
    "\n",
    "# print results\n",
    "# all_customers, gender_purchase, gamer_purchase, female_gamers, male_gamers"
   ]
  },
  {
   "cell_type": "markdown",
   "id": "c6a640bb",
   "metadata": {},
   "source": [
    "__Comparison 1: All Customers__  \n",
    "Control Group: 3.62%  \n",
    "Test Group: 7.68%  \n",
    "Absolute Difference: 7.68% − 3.62% = 4.06%  \n",
    " \n",
    " --\n",
    " \n",
    "__Comparison 2: Male vs. Female Customers__  \n",
    "Control Group:  \n",
    "Female: 3.44%  \n",
    "Male: 3.72%  \n",
    "\n",
    "Test Group:  \n",
    "Female: 8.09%  \n",
    "Male: 7.46%  \n",
    "\n",
    "Absolute Differences:  \n",
    "Female: 8.09% − 3.44% = 4.65%  \n",
    "Male: 7.46% − 3.72% = 3.74%  \n",
    "\n",
    "--\n",
    "\n",
    "__Comparison 3: Gamers vs. Non-Gamers Customers__  \n",
    "Control Group:  \n",
    "Non-Gamers: 3.74%  \n",
    "Gamers: 3.54%  \n",
    "\n",
    "Test Group:  \n",
    "Non-Gamers: 3.51%  \n",
    "Gamers: 10.45%  \n",
    "\n",
    "Absolute Differences:  \n",
    "Non-Gamers: 3.51% − 3.74% = −0.23%  \n",
    "Gamers: 10.45% − 3.54% = 6.91%  \n",
    "\n",
    "--\n",
    "\n",
    "__Comparison 4: Female Gamers vs. Male Gamers__  \n",
    "Control Group:  \n",
    "Female Gamers: 3.20%  \n",
    "Male Gamers: 3.73%  \n",
    "\n",
    "Test Group:  \n",
    "Female Gamers: 11.01%   \n",
    "Male Gamers: 10.14%   \n",
    "\n",
    "Absolute Differences:    \n",
    "Female Gamers: 11.01% − 3.20% = 7.81%  \n",
    "Male Gamers: 10.14% − 3.73% = 6.41%\n"
   ]
  },
  {
   "cell_type": "markdown",
   "id": "17e0f2d3",
   "metadata": {},
   "source": [
    "---"
   ]
  },
  {
   "cell_type": "markdown",
   "id": "34ddb354",
   "metadata": {},
   "source": [
    "#### 3. Assess the expected revenue in the test vs. control for the following comparisons:"
   ]
  },
  {
   "cell_type": "code",
   "execution_count": 64,
   "id": "c18bf8c3",
   "metadata": {},
   "outputs": [],
   "source": [
    "# group data and calculate expected revenue for each segment\n",
    "\n",
    "# a. All customers\n",
    "all_customers = data.groupby('test')['purchase'].mean() * 37.5\n",
    "\n",
    "# b. Female Gamers vs. Male Gamers\n",
    "female_gamers = data[(data['gender'] == 0) & (data['gamer'] == 1)].groupby('test')['purchase'].mean() * 37.5\n",
    "male_gamers = data[(data['gender'] == 1) & (data['gamer'] == 1)].groupby('test')['purchase'].mean() * 37.5\n",
    "\n",
    "# print results\n",
    "# all_customers, female_gamers, male_gamers"
   ]
  },
  {
   "cell_type": "markdown",
   "id": "4b8a07c4",
   "metadata": {},
   "source": [
    "__Comparison 1: All Customers__   \n",
    "Test Group Avg.Revenue: 1.357991  \n",
    "Control Group Avg.Revenue: 2.880816   \n",
    "\n",
    "--\n",
    "\n",
    "__Comparison 2: Female Gamers vs. Male Gamers__  \n",
    "Female Gamers:  \n",
    "Test Group Avg.Revenue: 1.201543  \n",
    "Control Group Avg.Revenue: 4.128440  \n",
    "\n",
    "Male Gamers:  \n",
    "Test Group Avg.Revenue: 1.397815  \n",
    "Control Group Avg.Revenue: 3.802652  \n",
    " "
   ]
  },
  {
   "cell_type": "markdown",
   "id": "8a8cb10b",
   "metadata": {},
   "source": [
    "---"
   ]
  },
  {
   "cell_type": "markdown",
   "id": "7c079471",
   "metadata": {},
   "source": [
    "#### 4. Based on your previous answers, provide a brief recommendation to your management team summarizing the expected financial outcome for Game-Fun.\n",
    "a. Should Game-Fun run this promotion again in the future? If no, explain why. If yes, should Game-Fun offer it to all customers or a targeted segment. [10 pts]"
   ]
  },
  {
   "cell_type": "markdown",
   "id": "460f6b9e",
   "metadata": {},
   "source": [
    "__Answer:__ The test group showed a significant increase in both the purchase rates and the average revenue in all segments compared to the control group. Thus, it is advisable for Game-Fun to run this promotion again, given its overall success in boosting the sales.  \n",
    "\n",
    "Instead of offering the promotion to all customers, a more targeted approach should be adopted. Focus should be on gamers, especially female gamers, who demonstrated the highest uplift in engagement and purchases."
   ]
  },
  {
   "cell_type": "markdown",
   "id": "74768a94",
   "metadata": {},
   "source": [
    "---"
   ]
  },
  {
   "cell_type": "markdown",
   "id": "61fa5d2b",
   "metadata": {},
   "source": [
    "### __E2. Non-Compliance in Randomized Experiments__"
   ]
  },
  {
   "cell_type": "markdown",
   "id": "3cf7ebf1",
   "metadata": {},
   "source": [
    "#### 1. The first data scientist advised that one should compare the survival rate of babies whose mothers were offered Vitamin A shots to the survival rate of babies whose mothers were not offered a Vitamin A shot.\n",
    "a. What percent of babies whose mothers were offered Vitamin A shots for their babies died? [3 pts]\n"
   ]
  },
  {
   "cell_type": "code",
   "execution_count": 67,
   "id": "492cf789",
   "metadata": {},
   "outputs": [],
   "source": [
    "# read the file\n",
    "path = \"/Users/yumi/ucdavis/Spring Quarter/BAX-423/Homework/Homework 1/sommer_deger.csv\"\n",
    "data = pd.read_csv(path)"
   ]
  },
  {
   "cell_type": "code",
   "execution_count": 68,
   "id": "421df7c3",
   "metadata": {
    "scrolled": true
   },
   "outputs": [
    {
     "data": {
      "text/html": [
       "<div>\n",
       "<style scoped>\n",
       "    .dataframe tbody tr th:only-of-type {\n",
       "        vertical-align: middle;\n",
       "    }\n",
       "\n",
       "    .dataframe tbody tr th {\n",
       "        vertical-align: top;\n",
       "    }\n",
       "\n",
       "    .dataframe thead th {\n",
       "        text-align: right;\n",
       "    }\n",
       "</style>\n",
       "<table border=\"1\" class=\"dataframe\">\n",
       "  <thead>\n",
       "    <tr style=\"text-align: right;\">\n",
       "      <th></th>\n",
       "      <th>instrument</th>\n",
       "      <th>treatment</th>\n",
       "      <th>outcome</th>\n",
       "    </tr>\n",
       "  </thead>\n",
       "  <tbody>\n",
       "    <tr>\n",
       "      <th>0</th>\n",
       "      <td>0</td>\n",
       "      <td>0</td>\n",
       "      <td>0</td>\n",
       "    </tr>\n",
       "    <tr>\n",
       "      <th>1</th>\n",
       "      <td>0</td>\n",
       "      <td>0</td>\n",
       "      <td>0</td>\n",
       "    </tr>\n",
       "    <tr>\n",
       "      <th>2</th>\n",
       "      <td>0</td>\n",
       "      <td>0</td>\n",
       "      <td>0</td>\n",
       "    </tr>\n",
       "    <tr>\n",
       "      <th>3</th>\n",
       "      <td>0</td>\n",
       "      <td>0</td>\n",
       "      <td>0</td>\n",
       "    </tr>\n",
       "    <tr>\n",
       "      <th>4</th>\n",
       "      <td>0</td>\n",
       "      <td>0</td>\n",
       "      <td>0</td>\n",
       "    </tr>\n",
       "  </tbody>\n",
       "</table>\n",
       "</div>"
      ],
      "text/plain": [
       "   instrument  treatment  outcome\n",
       "0           0          0        0\n",
       "1           0          0        0\n",
       "2           0          0        0\n",
       "3           0          0        0\n",
       "4           0          0        0"
      ]
     },
     "execution_count": 68,
     "metadata": {},
     "output_type": "execute_result"
    }
   ],
   "source": [
    "data.head()"
   ]
  },
  {
   "cell_type": "markdown",
   "id": "62076a9d",
   "metadata": {},
   "source": [
    "instrument (equals one if the mother was offered a vitamin A shot for her baby)  \n",
    "treatment (equals one if the baby got the vitamin A shot)  \n",
    "outcome (equals one if the baby did not survive)  "
   ]
  },
  {
   "cell_type": "code",
   "execution_count": 75,
   "id": "7fe9ee9a",
   "metadata": {
    "scrolled": true
   },
   "outputs": [
    {
     "name": "stdout",
     "output_type": "stream",
     "text": [
      "Answer:  0.38 percent of babies whose mothers were offered Vitamin A shots for their babies died.\n"
     ]
    }
   ],
   "source": [
    "# subset the data based on whether the mothers were offered Vitamin A shots or not\n",
    "offered_vitamin_a = data[data['instrument'] == 1]\n",
    "not_offered_vitamin_a = data[data['instrument'] == 0]\n",
    "\n",
    "mortality_offered = offered_vitamin_a['outcome'].mean() * 100\n",
    "print('Answer: ', round(mortality_offered,2), 'percent of babies whose mothers were offered Vitamin A shots for their babies died.')"
   ]
  },
  {
   "cell_type": "markdown",
   "id": "629e46de",
   "metadata": {},
   "source": [
    "<hr style=\"border:0.5px solid gray\">"
   ]
  },
  {
   "cell_type": "markdown",
   "id": "147aee02",
   "metadata": {},
   "source": [
    "b. What percent of babies whose mothers were not offered Vitamin A shots for their babies died? [3 pts]\n"
   ]
  },
  {
   "cell_type": "code",
   "execution_count": 76,
   "id": "d2ed2f5d",
   "metadata": {},
   "outputs": [
    {
     "name": "stdout",
     "output_type": "stream",
     "text": [
      "Answer:  0.64 percent of babies whose mothers were not offered Vitamin A shots for their babies died.\n"
     ]
    }
   ],
   "source": [
    "mortality_not_offered = not_offered_vitamin_a['outcome'].mean() * 100\n",
    "print('Answer: ', round(mortality_not_offered,2), 'percent of babies whose mothers were not offered Vitamin A shots for their babies died.')"
   ]
  },
  {
   "cell_type": "markdown",
   "id": "676c58e5",
   "metadata": {},
   "source": [
    "<hr style=\"border:0.5px solid gray\">"
   ]
  },
  {
   "cell_type": "markdown",
   "id": "8ebb03f2",
   "metadata": {},
   "source": [
    "c. What is the difference in mortality, and under what assumptions is the difference between these two percentages a valid estimate of the causal impact of receiving vitamin A shots on survival? [4 pts]"
   ]
  },
  {
   "cell_type": "code",
   "execution_count": 81,
   "id": "5a88c6c0",
   "metadata": {},
   "outputs": [
    {
     "name": "stdout",
     "output_type": "stream",
     "text": [
      "Answer: The difference in mortality between these two groups is  0.26 %.\n"
     ]
    }
   ],
   "source": [
    "mortality_difference = mortality_not_offered - mortality_offered\n",
    "print('Answer: The difference in mortality between these two groups is ', round(mortality_difference,2), '%.')"
   ]
  },
  {
   "cell_type": "markdown",
   "id": "1ef6186e",
   "metadata": {},
   "source": [
    "To consider the difference in mortality as a valid estimate of the causal impact of receiving Vitamin A shots on survival, we need to assume:  \n",
    "\n",
    "- __Randomization:__ The decision to offer Vitamin A shots must be random among the population studied, ensuring that there are no confounding variables influencing both the likelihood of receiving the treatment and the outcome.  \n",
    "\n",
    "- __Compliance:__ The data should ideally reflect perfect compliance, meaning all who were offered the shots received them, and none who were not offered received them otherwise.  \n",
    "\n",
    "- __No Spillover Effects:__ There should be no influence of treated individuals on untreated ones, and no external factors influencing the outcomes other than the treatment.   \n",
    "\n",
    "- __No Measurement Errors:__ Outcomes and treatment status should be accurately measured and recorded.  \n",
    "\n",
    "Under these conditions, the calculated difference can be interpreted as an estimate of the causal effect of the intervention (offering Vitamin A shots) on survival rates. Without these conditions being met, the observed differences might be attributable to other factors not controlled for in the analysis.  "
   ]
  },
  {
   "cell_type": "markdown",
   "id": "fa95c4bf",
   "metadata": {},
   "source": [
    "---"
   ]
  },
  {
   "cell_type": "markdown",
   "id": "37748f45",
   "metadata": {},
   "source": [
    "#### 2. The second data scientist advised that one should compare the survival rates of babies who received Vitamin A shots to babies who did not receive Vitamin A shots.\n",
    "\n",
    "a. What percent of babies who received Vitamin A shots died? [3pts]  "
   ]
  },
  {
   "cell_type": "code",
   "execution_count": 82,
   "id": "fd6abd3b",
   "metadata": {},
   "outputs": [
    {
     "name": "stdout",
     "output_type": "stream",
     "text": [
      "Answer:  0.12 percent of babies who received Vitamin A shots died.\n"
     ]
    }
   ],
   "source": [
    "# subset the data based on whether the babies received Vitamin A shots or not\n",
    "received_vitamin_a = data[data['treatment'] == 1]\n",
    "not_received_vitamin_a = data[data['treatment'] == 0]\n",
    "\n",
    "mortality_received = received_vitamin_a['outcome'].mean() * 100\n",
    "print('Answer: ', round(mortality_received,2), 'percent of babies who received Vitamin A shots died.')"
   ]
  },
  {
   "cell_type": "markdown",
   "id": "e66fbe18",
   "metadata": {},
   "source": [
    "<hr style=\"border:0.5px solid gray\">"
   ]
  },
  {
   "cell_type": "markdown",
   "id": "199131b9",
   "metadata": {},
   "source": [
    "b. What percent of babies who did not receive Vitamin A shots died? [3pts]   "
   ]
  },
  {
   "cell_type": "code",
   "execution_count": 83,
   "id": "6fb4a833",
   "metadata": {
    "scrolled": true
   },
   "outputs": [
    {
     "name": "stdout",
     "output_type": "stream",
     "text": [
      "Answer:  0.77 percent of babies who did not receive Vitamin A shots died.\n"
     ]
    }
   ],
   "source": [
    "mortality_not_received = not_received_vitamin_a['outcome'].mean() * 100\n",
    "print('Answer: ', round(mortality_not_received,2), 'percent of babies who did not receive Vitamin A shots died.')"
   ]
  },
  {
   "cell_type": "markdown",
   "id": "13b8ad13",
   "metadata": {},
   "source": [
    "<hr style=\"border:0.5px solid gray\">"
   ]
  },
  {
   "cell_type": "markdown",
   "id": "cbc5e8b8",
   "metadata": {},
   "source": [
    "c. What is the difference in mortality, and under what assumptions is the difference\n",
    "between these two percentages a valid estimate of the causal impact of receiving vitamin A shots on survival? [4 pts] "
   ]
  },
  {
   "cell_type": "code",
   "execution_count": 84,
   "id": "82d130ea",
   "metadata": {},
   "outputs": [
    {
     "name": "stdout",
     "output_type": "stream",
     "text": [
      "Answer: The difference in mortality between these two groups is  0.65 %.\n"
     ]
    }
   ],
   "source": [
    "mortality_difference = mortality_not_received - mortality_received\n",
    "print('Answer: The difference in mortality between these two groups is ', round(mortality_difference,2), '%.')"
   ]
  },
  {
   "cell_type": "markdown",
   "id": "0b78c687",
   "metadata": {},
   "source": [
    "The difference between these two percentages can be considered a valid estimate of the causal impact of receiving Vitamin A shots on survival under specific assumptions:  \n",
    "\n",
    "- __Random Assignment:__ If the treatment (Vitamin A shots) was randomly assigned to the babies, then the treatment and control groups would likely be similar in all aspects except for the intervention. This helps in attributing any differences in outcomes directly to the treatment.  \n",
    "- __No Unmeasured Confounders:__ There should be no unmeasured variables that could influence both the likelihood of receiving the treatment and the survival outcome.    \n",
    "- __Sufficient Sample Size:__ A large enough sample size to ensure that observed differences are statistically significant and not due to random chance.  \n",
    "- __No Spillover Effects:__ The treatment on one baby should not affect the outcomes of another baby who did not receive the treatment.  \n",
    "\n",
    "If these conditions are met, then the observed difference in mortality rates can be interpreted as the causal effect of the Vitamin A shots on survival."
   ]
  },
  {
   "cell_type": "markdown",
   "id": "1bdd1c54",
   "metadata": {},
   "source": [
    "---"
   ]
  },
  {
   "cell_type": "markdown",
   "id": "11e3829f",
   "metadata": {},
   "source": [
    "#### 3. The third data scientist advised that one should consider only babies whose mothers were offered Vitamin A shots, and compare babies who received shots to babies who did not receive shots.\n",
    "a. What percent of babies who received Vitamin A shots died? [3pts]"
   ]
  },
  {
   "cell_type": "code",
   "execution_count": 90,
   "id": "1e2312d5",
   "metadata": {},
   "outputs": [
    {
     "name": "stdout",
     "output_type": "stream",
     "text": [
      "Answer:  0.12 percent of babies who received Vitamin A shots died.\n"
     ]
    }
   ],
   "source": [
    "offered_vitamin_a = data[data['instrument'] == 1]\n",
    "\n",
    "mortality_offered = offered_vitamin_a.groupby('treatment')['outcome'].mean() * 100\n",
    "\n",
    "print('Answer: ', round(mortality_offered[1],2), 'percent of babies who received Vitamin A shots died.')"
   ]
  },
  {
   "cell_type": "markdown",
   "id": "0fe3ee70",
   "metadata": {},
   "source": [
    "<hr style=\"border:0.5px solid gray\">"
   ]
  },
  {
   "cell_type": "markdown",
   "id": "d3dd8d19",
   "metadata": {},
   "source": [
    "b. What percent of babies whose mothers were offered Vitamin A shots, but the mothers did not accept them, died? [3 pts]\n"
   ]
  },
  {
   "cell_type": "code",
   "execution_count": 91,
   "id": "2c69e9b2",
   "metadata": {},
   "outputs": [
    {
     "name": "stdout",
     "output_type": "stream",
     "text": [
      "Answer:  1.41 percent of babies whose mothers were offered Vitamin A shots, but the mothers did not accept them, died.\n"
     ]
    }
   ],
   "source": [
    "mortality_offered = offered_vitamin_a.groupby('treatment')['outcome'].mean() * 100\n",
    "\n",
    "print('Answer: ', round(mortality_offered[0],2), 'percent of babies whose mothers were offered Vitamin A shots, but the mothers did not accept them, died.')"
   ]
  },
  {
   "cell_type": "markdown",
   "id": "5ce489f6",
   "metadata": {},
   "source": [
    "<hr style=\"border:0.5px solid gray\">"
   ]
  },
  {
   "cell_type": "markdown",
   "id": "8b6c40b9",
   "metadata": {},
   "source": [
    "c. What is the difference in mortality, and under what assumptions is the difference\n",
    "between these two percentages a valid estimate of the causal impact of receiving\n",
    "vitamin A shots on survival? [4 pts]"
   ]
  },
  {
   "cell_type": "code",
   "execution_count": 94,
   "id": "37acb7ef",
   "metadata": {},
   "outputs": [
    {
     "name": "stdout",
     "output_type": "stream",
     "text": [
      "Answer: The difference in mortality between these two groups is  1.28 %.\n"
     ]
    }
   ],
   "source": [
    "mortality_difference_offered = mortality_offered[0] - mortality_offered[1]\n",
    "print('Answer: The difference in mortality between these two groups is ', round(mortality_difference_offered,2), '%.')"
   ]
  },
  {
   "cell_type": "markdown",
   "id": "6201a28a",
   "metadata": {},
   "source": [
    "The difference between these two percentages can be considered a valid estimate of the causal impact of receiving Vitamin A shots on survival under specific assumptions:  \n",
    "\n",
    "- __Random Compliance:__ It's assumed that the decision to accept the shot (after being offered) is as good as random among those offered. This minimizes selection bias, where only certain types of individuals accept or refuse treatment.  \n",
    "- __No Unmeasured Confounders:__ This assumes there are no unmeasured variables that could influence both the likelihood of accepting the treatment and the survival outcome, particularly within the subgroup whose mothers were offered the shots.  \n",
    "-  __Comparable Groups:__ It assumes that the only systematic difference between the two groups (those who accepted and those who did not) is the treatment itself. This means that any other potential differences are random and not confounded by the treatment.  \n",
    "- __No Spillover Effects:__ Similar to before, it's assumed that the treatment decision for one baby does not influence the outcomes of another baby.  \n",
    "\n",
    "If these conditions hold, the observed difference in mortality rates can provide a reliable estimate of the causal effect of Vitamin A shots on survival among those offered the treatment. "
   ]
  },
  {
   "cell_type": "markdown",
   "id": "c286cf1c",
   "metadata": {},
   "source": [
    "---"
   ]
  },
  {
   "cell_type": "markdown",
   "id": "8d9ecba0",
   "metadata": {},
   "source": [
    "#### 4. The fourth data scientist suggested the following Wald estimator for the effect of Vitamin A shots on mortality: \n",
    "% 𝑜𝑓 𝑏𝑎𝑏𝑖𝑒𝑠 𝑜𝑓𝑓𝑒𝑟𝑒𝑑 𝑠h𝑜𝑡 𝑡h𝑎𝑡 𝑑𝑖𝑒𝑑 − % 𝑜𝑓 𝑏𝑎𝑏𝑖𝑒𝑠 𝑛𝑜𝑡 𝑜𝑓𝑓𝑒𝑟𝑒𝑑 𝑠h𝑜𝑡𝑠 𝑡h𝑎𝑡 𝑑𝑖𝑒𝑑   \n",
    "𝑜𝑓 𝑏𝑎𝑏𝑖𝑒𝑠 𝑤h𝑜 𝑤𝑒𝑟𝑒 𝑜𝑓𝑓𝑒𝑟𝑒𝑑 𝑎 𝑠h𝑜𝑡 𝑎𝑛𝑑 𝑟𝑒𝑐𝑒𝑖𝑣𝑒𝑑 𝑖𝑡"
   ]
  },
  {
   "cell_type": "markdown",
   "id": "6fabf382",
   "metadata": {},
   "source": [
    "a. Compute the above Wald estimate for the given dataset. [2pts]"
   ]
  },
  {
   "cell_type": "code",
   "execution_count": 118,
   "id": "c5814af9",
   "metadata": {},
   "outputs": [
    {
     "name": "stdout",
     "output_type": "stream",
     "text": [
      "Answer: The Wald estimate for the given dataset is -0.00323\n"
     ]
    }
   ],
   "source": [
    "# calculate the necessary percentages for the Wald Estimator\n",
    "offered_died = data[data['instrument'] == 1]['outcome'].mean() * 100\n",
    "not_offered_died = data[data['instrument'] == 0]['outcome'].mean() * 100\n",
    "offered_and_received = (data[(data['instrument'] == 1) & (data['treatment'] == 1)].shape[0] / \n",
    "                        data[data['instrument'] == 1].shape[0]) * 100\n",
    "\n",
    "# calculate the Wald Estimator\n",
    "wald_estimator = (offered_died - not_offered_died) / offered_and_received\n",
    "\n",
    "print('Answer: The Wald estimate for the given dataset is', round(wald_estimator, 5))"
   ]
  },
  {
   "cell_type": "markdown",
   "id": "01c89a59",
   "metadata": {},
   "source": [
    "<hr style=\"border:0.5px solid gray\">"
   ]
  },
  {
   "cell_type": "markdown",
   "id": "c9c7bb77",
   "metadata": {},
   "source": [
    "b. Under what assumptions is this estimate a valid estimate of the causal impact of vitamin A shots on survival? [4 pts]"
   ]
  },
  {
   "cell_type": "markdown",
   "id": "e08c8469",
   "metadata": {},
   "source": [
    "For the Wald estimator to be a valid estimate of the causal impact of vitamin A shots on survival, the following assumptions must hold:  \n",
    "\n",
    "- __Exogeneity of the Instrument:__ The instrument (being offered a shot) must be uncorrelated with any potential confounders that affect both the likelihood of receiving the treatment and the outcome.   \n",
    "- __Exclusion Restriction:__ The instrument affects the outcome only through its effect on the treatment. This means that being offered a shot should not affect the baby's survival directly, but only indirectly by influencing whether the baby receives the shot.     \n",
    "- __Non-zero Average Causal Effect of the Instrument on the Treatment:__ The instrument must have a substantial impact on the probability of receiving the treatment to ensure a robust estimate.   \n",
    "- __Monotonicity:__ The instrument should not affect the decision to receive the treatment in opposite directions for different individuals. Essentially, offering a shot should not lead anyone who would have otherwise accepted the treatment to refuse it.\n"
   ]
  },
  {
   "cell_type": "markdown",
   "id": "4fe4536a",
   "metadata": {},
   "source": [
    "<hr style=\"border:0.5px solid gray\">"
   ]
  },
  {
   "cell_type": "markdown",
   "id": "b988814a",
   "metadata": {},
   "source": [
    "c. What is the standard error for the intent-to-treat estimate recommended by the\n",
    "first data scientist? What is the standard error for the Wald estimate recommended by the fourth data scientist? [5 pts]  \n",
    "i. Which one is larger and why? [4 pts]  \n",
    "ii. Why might these standard errors be biased? What information would you ideally want to have to address this bias? [5 pts]  "
   ]
  },
  {
   "cell_type": "code",
   "execution_count": 129,
   "id": "a52f30a6",
   "metadata": {
    "scrolled": true
   },
   "outputs": [
    {
     "name": "stdout",
     "output_type": "stream",
     "text": [
      "Answer: The standard error for the intent-to-treat estimate recommended by the first data scientist is 0.09278 %.\n",
      "Answer: The standard error for the Wald estimate recommended by the fourth data scientist is 0.00116 %.\n"
     ]
    }
   ],
   "source": [
    "offered_shots_died = data[(data['instrument'] == 1) & (data['outcome'] == 1)].shape[0]\n",
    "offered_shots_total = data[data['instrument'] == 1].shape[0]\n",
    "percent_offered_died = (offered_shots_died / offered_shots_total) * 100\n",
    "\n",
    "not_offered_shots_died = data[(data['instrument'] == 0) & (data['outcome'] == 1)].shape[0]\n",
    "not_offered_shots_total = data[data['instrument'] == 0].shape[0]\n",
    "percent_not_offered_died = (not_offered_shots_died / not_offered_shots_total) * 100\n",
    "\n",
    "# Intent-to-treat standard error\n",
    "p1 = percent_offered_died / 100\n",
    "p2 = percent_not_offered_died / 100\n",
    "se_intent_to_treat = np.sqrt(p1*(1-p1)/offered_shots_total + p2*(1-p2)/not_offered_shots_total) * 100\n",
    "\n",
    "# calculate the standard error for the Wald estimate\n",
    "p1 = offered_died/100\n",
    "p2 = not_offered_died/100\n",
    "p_treat = offered_and_received/100\n",
    "se_wald = np.sqrt((p1 * (1 - p1) / nobs_itt[0]) + (p2 * (1 - p2) / nobs_itt[1])) / p_treat\n",
    "\n",
    "print('Answer: The standard error for the intent-to-treat estimate recommended by the first data scientist is', round(se_intent_to_treat,5), '%.')\n",
    "print('Answer: The standard error for the Wald estimate recommended by the fourth data scientist is', round(se_wald,5), '%.')"
   ]
  },
  {
   "cell_type": "markdown",
   "id": "1fa04f2a",
   "metadata": {},
   "source": [
    "i. The standard error for the intent-to-treat estimate is larger than that for the Wald estimate. This is often the case as the Wald estimator can be more efficient but assumes a strong instrument, which might not always hold true in practice.  \n",
    "\n",
    "ii. These standard errors could be biased due to deviations from the assumptions required by the respective estimators. Incomplete compliance, unmeasured confounders, or incorrect assumptions about the instrumental variable could all bias these estimates.  \n",
    "\n",
    "Ideally, I want more detailed data on compliance mechanisms, additional variables that could be potential confounders, and perhaps a more rigorous method to ensure that the instrument is strong and valid to address these biases."
   ]
  },
  {
   "cell_type": "markdown",
   "id": "459158b5",
   "metadata": {},
   "source": [
    "---"
   ]
  },
  {
   "cell_type": "markdown",
   "id": "336d60fe",
   "metadata": {},
   "source": [
    "### __E3: Causal Inference in Observational Studies__"
   ]
  },
  {
   "cell_type": "markdown",
   "id": "3d7a590b",
   "metadata": {},
   "source": [
    "__Answer:__   \n",
    "1) Resonance with Objective Study Design: Rubin emphasizes designing studies like randomized trials, using pre-treatment data to form groups without seeing outcome data. This method to avoid bias really aligns with the strict standards I learned about in previous statistics courses.    \n",
    "\n",
    "\n",
    "2) No Points of Disagreement: Rubin's study is compelling to me.   \n",
    "\n",
    "\n",
    "3) Comparison with Previous Learning on Propensity Scores: Rubin's explanation of propensity scores to ensure group comparability deepens my understanding beyond the theoretical discussions from our classes. His practical critique of common mispractices provides useful real-world insights.    \n",
    "\n",
    "\n",
    "4) Implications for Research Integrity: The paper emphasizes the ethical dimension of research design, advocating for a clear separation between the design and analysis phases to prevent bias. This lesson on the importance of ethical research practices is a critical takeaway for conducting scientifically valid research.  "
   ]
  }
 ],
 "metadata": {
  "kernelspec": {
   "display_name": "Python 3 (ipykernel)",
   "language": "python",
   "name": "python3"
  },
  "language_info": {
   "codemirror_mode": {
    "name": "ipython",
    "version": 3
   },
   "file_extension": ".py",
   "mimetype": "text/x-python",
   "name": "python",
   "nbconvert_exporter": "python",
   "pygments_lexer": "ipython3",
   "version": "3.11.5"
  }
 },
 "nbformat": 4,
 "nbformat_minor": 5
}
